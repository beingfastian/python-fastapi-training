{
 "cells": [
  {
   "cell_type": "markdown",
   "id": "0282490c-17a4-48c5-894b-00d84174c8ed",
   "metadata": {},
   "source": [
    "for Loop"
   ]
  },
  {
   "cell_type": "code",
   "execution_count": null,
   "id": "f3d9d9ee-fbe5-488d-8691-9c83d8346a74",
   "metadata": {},
   "outputs": [],
   "source": [
    "fruits = [\"apple\", \"banana\", \"cherry\"]"
   ]
  },
  {
   "cell_type": "code",
   "execution_count": 3,
   "id": "4c39eb23-d9d5-4c5a-9f43-7ed05d2926b5",
   "metadata": {},
   "outputs": [
    {
     "name": "stdout",
     "output_type": "stream",
     "text": [
      "apple\n",
      "banana\n",
      "cherry\n"
     ]
    }
   ],
   "source": [
    "#iterating through list\n",
    "for item in fruits:\n",
    "    print(item)"
   ]
  },
  {
   "cell_type": "code",
   "execution_count": 5,
   "id": "289ae180-9daa-4b5f-b11f-a74360338b51",
   "metadata": {
    "scrolled": true
   },
   "outputs": [
    {
     "name": "stdout",
     "output_type": "stream",
     "text": [
      "This is not banana: apple\n",
      "Found banana!\n",
      "This is not banana: cherry\n"
     ]
    }
   ],
   "source": [
    "# use if-else in for loop\n",
    "for item in fruits:\n",
    "    if item == \"banana\":\n",
    "        print(\"Found banana!\")\n",
    "    else:\n",
    "        print(\"This is not banana:\", item)"
   ]
  },
  {
   "cell_type": "code",
   "execution_count": 6,
   "id": "da899589-f9b3-492b-9246-1ad36dc22e92",
   "metadata": {},
   "outputs": [
    {
     "name": "stdout",
     "output_type": "stream",
     "text": [
      "Number: 1\n",
      "Number: 2\n",
      "Number: 3\n",
      "Number: 4\n",
      "Number: 5\n"
     ]
    }
   ],
   "source": [
    "for i in range(1, 6):\n",
    "    print(\"Number:\", i)"
   ]
  },
  {
   "cell_type": "code",
   "execution_count": 11,
   "id": "e7cdb94e-d6b5-438d-a813-4d09e649451c",
   "metadata": {},
   "outputs": [
    {
     "name": "stdout",
     "output_type": "stream",
     "text": [
      "Number: 0\n",
      "Number: 3\n"
     ]
    }
   ],
   "source": [
    "for i in range(0, 5, 3):\n",
    "    print(\"Number:\", i)"
   ]
  },
  {
   "cell_type": "markdown",
   "id": "509c5539-35ca-4a4d-8147-b9f8a2a264a3",
   "metadata": {},
   "source": [
    "while loop"
   ]
  },
  {
   "cell_type": "code",
   "execution_count": 17,
   "id": "102bf35e-2350-4653-88c2-f6d9cdc48d99",
   "metadata": {},
   "outputs": [
    {
     "name": "stdout",
     "output_type": "stream",
     "text": [
      "Count: 1\n",
      "Count: 2\n",
      "Count: 3\n",
      "Count: 4\n",
      "Count: 5\n"
     ]
    }
   ],
   "source": [
    "count = 1\n",
    "while count <= 5:\n",
    "    print(\"Count:\", count)\n",
    "    count += 1"
   ]
  },
  {
   "cell_type": "code",
   "execution_count": 22,
   "id": "48ce7e20-0a00-4b68-b890-64c13e39f0a1",
   "metadata": {},
   "outputs": [
    {
     "name": "stdout",
     "output_type": "stream",
     "text": [
      "1 is odd\n",
      "2 is even\n",
      "3 is odd\n",
      "4 is even\n",
      "5 is odd\n"
     ]
    }
   ],
   "source": [
    "#use if-else in while loop\n",
    "x = 1\n",
    "\n",
    "while x <= 5:\n",
    "    if x % 2 == 0:\n",
    "        print(x, \"is even\")\n",
    "    else:\n",
    "        print(x, \"is odd\")\n",
    "    x += 1"
   ]
  },
  {
   "cell_type": "code",
   "execution_count": 21,
   "id": "c67ecf2e-2811-4cee-a15c-167c2b17418d",
   "metadata": {},
   "outputs": [
    {
     "name": "stdout",
     "output_type": "stream",
     "text": [
      "Skipping even number 0\n",
      "Breaking at odd number 1\n"
     ]
    }
   ],
   "source": [
    "#break: Stop the loop completely\n",
    "#continue: Skip current iteration and go to next\n",
    "for i in range(0, 5):\n",
    "    if i % 2 == 0:\n",
    "        print(\"Skipping even number\", i)\n",
    "        continue\n",
    "    if i % 2 != 0:\n",
    "        print(\"Breaking at odd number\", i)\n",
    "        break\n",
    "    print(\"i =\", i)\n"
   ]
  },
  {
   "cell_type": "markdown",
   "id": "9f1adf95-7cb3-4914-9b10-0e2c78c334a3",
   "metadata": {},
   "source": [
    "if-else "
   ]
  },
  {
   "cell_type": "code",
   "execution_count": 24,
   "id": "905a14b2-55f9-4340-9bc4-3dfee92825f0",
   "metadata": {},
   "outputs": [
    {
     "name": "stdin",
     "output_type": "stream",
     "text": [
      "Enter first number:  2\n",
      "Enter second number:  2\n"
     ]
    },
    {
     "name": "stdout",
     "output_type": "stream",
     "text": [
      "Both numbers are equal.\n"
     ]
    }
   ],
   "source": [
    "x = input(\"Enter first number: \")\n",
    "y = input(\"Enter second number: \")\n",
    "\n",
    "if x > y:\n",
    "    print(\"{x} is greater than {y}\")\n",
    "elif x < y:\n",
    "    print(\"{x} is less than {y}\")\n",
    "else:\n",
    "    print(\"Both numbers are equal.\")\n"
   ]
  },
  {
   "cell_type": "code",
   "execution_count": null,
   "id": "7fabd5a5-f4e9-42c7-bfcb-f752035d73c5",
   "metadata": {},
   "outputs": [],
   "source": []
  }
 ],
 "metadata": {
  "kernelspec": {
   "display_name": "Python 3 (ipykernel)",
   "language": "python",
   "name": "python3"
  },
  "language_info": {
   "codemirror_mode": {
    "name": "ipython",
    "version": 3
   },
   "file_extension": ".py",
   "mimetype": "text/x-python",
   "name": "python",
   "nbconvert_exporter": "python",
   "pygments_lexer": "ipython3",
   "version": "3.11.4"
  }
 },
 "nbformat": 4,
 "nbformat_minor": 5
}

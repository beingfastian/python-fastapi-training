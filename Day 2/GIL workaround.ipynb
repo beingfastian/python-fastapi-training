{
 "cells": [
  {
   "cell_type": "code",
   "execution_count": 17,
   "id": "d08fa757-bfaa-4479-8dc6-9f1d36e06aaa",
   "metadata": {},
   "outputs": [
    {
     "name": "stdout",
     "output_type": "stream",
     "text": [
      "Number: 0\n",
      "Fruits: Mango\n",
      "Number: 1\n",
      "Fruits: Fruit\n",
      "Number:Fruits: Apple\n",
      " 2\n",
      "Number: 3\n",
      "Number: 4\n",
      "Done!\n"
     ]
    }
   ],
   "source": [
    "import threading\n",
    "import time\n",
    "#Run in a separate thread\n",
    "def numbers():\n",
    "    for i in range(5):\n",
    "        print(\"Number:\", i)\n",
    "        time.sleep(1)\n",
    "#Run in another thread\n",
    "def fruits():\n",
    "    for item in [\"Mango\", \"Fruit\", \"Apple\"]:\n",
    "        print(\"Fruits:\", item)\n",
    "        time.sleep(1)\n",
    "if __name__ == '__main__':\n",
    "    # threads creation\n",
    "    t1 = threading.Thread(target=numbers)\n",
    "    t2 = threading.Thread(target=fruits)\n",
    "    # starting threads\n",
    "    t1.start()\n",
    "    t2.start()\n",
    "    # Wait for both threads to finish\n",
    "    t1.join()\n",
    "    t2.join()\n",
    "    print(\"Done!\")"
   ]
  },
  {
   "cell_type": "code",
   "execution_count": 21,
   "id": "b7395661-7094-4b24-9a2e-c664b17487d7",
   "metadata": {},
   "outputs": [
    {
     "name": "stdout",
     "output_type": "stream",
     "text": [
      "Done!\n"
     ]
    }
   ],
   "source": [
    "import multiprocessing\n",
    "import time\n",
    "def numbers():\n",
    "    for i in range(5):\n",
    "        print(\"Number:\", i, flush=True)\n",
    "        time.sleep(1)\n",
    "#Run in another thread\n",
    "def fruits():\n",
    "    for item in [\"Mango\", \"Fruit\", \"Apple\"]:\n",
    "        print(\"Fruits:\", item, flush=True)\n",
    "        time.sleep(1)\n",
    "if __name__ == '__main__':\n",
    "    # Create processes\n",
    "    p1 = multiprocessing.Process(target=numbers)\n",
    "    p2 = multiprocessing.Process(target=fruits)\n",
    "    # Start processes\n",
    "    p1.start()\n",
    "    p2.start()\n",
    "    # Wait for both processes to finish\n",
    "    p1.join()\n",
    "    p2.join()\n",
    "    print(\"Done!\")"
   ]
  }
 ],
 "metadata": {
  "kernelspec": {
   "display_name": "Python 3 (ipykernel)",
   "language": "python",
   "name": "python3"
  },
  "language_info": {
   "codemirror_mode": {
    "name": "ipython",
    "version": 3
   },
   "file_extension": ".py",
   "mimetype": "text/x-python",
   "name": "python",
   "nbconvert_exporter": "python",
   "pygments_lexer": "ipython3",
   "version": "3.11.4"
  }
 },
 "nbformat": 4,
 "nbformat_minor": 5
}

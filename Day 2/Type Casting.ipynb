{
 "cells": [
  {
   "cell_type": "markdown",
   "id": "32e4c3f7-d8a2-4963-9f89-172fae3368e2",
   "metadata": {},
   "source": [
    "The process of converting value of one data type to another (string, integer, float, boolean)"
   ]
  },
  {
   "cell_type": "markdown",
   "id": "0aa8779c-16e8-4333-9141-6a2497ecf931",
   "metadata": {},
   "source": [
    "Implicit vs Explicit"
   ]
  },
  {
   "cell_type": "markdown",
   "id": "fe7ede29-ba11-464e-bf66-d45b115b5fe1",
   "metadata": {},
   "source": [
    "Implicit Casting "
   ]
  },
  {
   "cell_type": "code",
   "execution_count": 2,
   "id": "d4b4e4a7-f47f-458b-9d31-95f7f7858b37",
   "metadata": {},
   "outputs": [
    {
     "name": "stdout",
     "output_type": "stream",
     "text": [
      "<class 'str'>\n",
      "<class 'int'>\n",
      "<class 'float'>\n",
      "<class 'bool'>\n"
     ]
    }
   ],
   "source": [
    "name = \"Hanzla\"\n",
    "age = 24\n",
    "gpa = 2.45\n",
    "Employed = True\n",
    "\n",
    "print(type(name))\n",
    "print(type(age))\n",
    "print(type(gpa))\n",
    "print(type(Employed))"
   ]
  },
  {
   "cell_type": "markdown",
   "id": "648d31f4-34b7-4ecb-8abe-7a743befb286",
   "metadata": {},
   "source": [
    "Explicit Casting "
   ]
  },
  {
   "cell_type": "code",
   "execution_count": 3,
   "id": "88ee3b76-63ab-4fc0-bac1-71d001a0d67f",
   "metadata": {},
   "outputs": [
    {
     "name": "stdout",
     "output_type": "stream",
     "text": [
      "<class 'str'>\n",
      "<class 'int'>\n",
      "<class 'float'>\n",
      "<class 'bool'>\n"
     ]
    }
   ],
   "source": [
    "name = str(\"Hanzla\")\n",
    "age = int(24)\n",
    "gpa = float(2.45)\n",
    "Employed = bool(True)\n",
    "\n",
    "print(type(name))\n",
    "print(type(age))\n",
    "print(type(gpa))\n",
    "print(type(Employed))"
   ]
  },
  {
   "cell_type": "code",
   "execution_count": null,
   "id": "111fd36a-b381-462d-a94c-eca78de6df07",
   "metadata": {},
   "outputs": [],
   "source": []
  }
 ],
 "metadata": {
  "kernelspec": {
   "display_name": "Python 3 (ipykernel)",
   "language": "python",
   "name": "python3"
  },
  "language_info": {
   "codemirror_mode": {
    "name": "ipython",
    "version": 3
   },
   "file_extension": ".py",
   "mimetype": "text/x-python",
   "name": "python",
   "nbconvert_exporter": "python",
   "pygments_lexer": "ipython3",
   "version": "3.11.4"
  }
 },
 "nbformat": 4,
 "nbformat_minor": 5
}

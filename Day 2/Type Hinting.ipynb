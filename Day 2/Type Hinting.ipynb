{
 "cells": [
  {
   "cell_type": "code",
   "execution_count": null,
   "id": "b1de1d04-eb2d-4c51-acfc-71872cb13251",
   "metadata": {},
   "outputs": [],
   "source": [
    "def greet(name: str, age: int) -> str:\n",
    "    return f\"Hello, {name}! You are {age} years old.\"\n",
    "username: str = \"Hanzla\"\n",
    "score: float = 95.5\n",
    "is_active: bool = True\n",
    "names: list[str] = [\"Hanzla\", \"Iqbal\"]\n",
    "grades: dict[str, int] = {\"Math\": 90, \"English\": 85}"
   ]
  },
  {
   "cell_type": "code",
   "execution_count": 2,
   "id": "acc3bc81-4821-453c-969c-2f39efdcb581",
   "metadata": {},
   "outputs": [
    {
     "name": "stdout",
     "output_type": "stream",
     "text": [
      "Requirement already satisfied: mypy in c:\\python3.11\\lib\\site-packages (1.16.1)\n",
      "Requirement already satisfied: typing_extensions>=4.6.0 in c:\\python3.11\\lib\\site-packages (from mypy) (4.13.2)\n",
      "Requirement already satisfied: mypy_extensions>=1.0.0 in c:\\python3.11\\lib\\site-packages (from mypy) (1.1.0)\n",
      "Requirement already satisfied: pathspec>=0.9.0 in c:\\python3.11\\lib\\site-packages (from mypy) (0.12.1)\n"
     ]
    }
   ],
   "source": [
    "!pip install mypy"
   ]
  },
  {
   "cell_type": "code",
   "execution_count": null,
   "id": "e47db2b5-4b30-455d-9428-7891d871a23b",
   "metadata": {},
   "outputs": [],
   "source": [
    "def add(x: int, y: int) -> int:\n",
    "    return x + y\n",
    "result = add(5, \"10\")  # ❌ This is a type error (int + str)\n",
    "print(result)"
   ]
  }
 ],
 "metadata": {
  "kernelspec": {
   "display_name": "Python 3 (ipykernel)",
   "language": "python",
   "name": "python3"
  },
  "language_info": {
   "codemirror_mode": {
    "name": "ipython",
    "version": 3
   },
   "file_extension": ".py",
   "mimetype": "text/x-python",
   "name": "python",
   "nbconvert_exporter": "python",
   "pygments_lexer": "ipython3",
   "version": "3.11.4"
  }
 },
 "nbformat": 4,
 "nbformat_minor": 5
}

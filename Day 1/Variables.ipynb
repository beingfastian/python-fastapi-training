{
 "cells": [
  {
   "cell_type": "raw",
   "id": "2ce52677-6c3f-4cb2-b854-9554456f64d4",
   "metadata": {},
   "source": [
    "Creating Variables"
   ]
  },
  {
   "cell_type": "code",
   "execution_count": 4,
   "id": "3abb7bcb-7559-4e59-b217-8f1ba1567eff",
   "metadata": {},
   "outputs": [
    {
     "name": "stdout",
     "output_type": "stream",
     "text": [
      "5\n",
      "Hanzla\n"
     ]
    }
   ],
   "source": [
    "x = 5\n",
    "a = \"Hanzla\"\n",
    "print(x)\n",
    "print(a)"
   ]
  },
  {
   "cell_type": "markdown",
   "id": "0898312a-004d-4911-879b-89bee0affc0f",
   "metadata": {},
   "source": [
    "Variables Names"
   ]
  },
  {
   "cell_type": "code",
   "execution_count": 7,
   "id": "e9ebe69d-2e71-4434-b6ac-02bcd08d2c29",
   "metadata": {},
   "outputs": [],
   "source": [
    "myVarName = 5  #Camel Case\n",
    "my_VarName = \"Hanzla\" "
   ]
  },
  {
   "cell_type": "code",
   "execution_count": null,
   "id": "5b4aa615-caee-4d68-a715-93647e76891f",
   "metadata": {},
   "outputs": [],
   "source": [
    "MyVarName = 5  #Pascal Case\n",
    "My_VarName = \"Hanzla\" "
   ]
  },
  {
   "cell_type": "code",
   "execution_count": null,
   "id": "f78a6ba5-e8ad-4d81-b514-51d5e661bc87",
   "metadata": {},
   "outputs": [],
   "source": [
    "my_var_name = 5  #Snake Case \n",
    "My_Var_Name = \"Hanzla\""
   ]
  }
 ],
 "metadata": {
  "kernelspec": {
   "display_name": "Python 3 (ipykernel)",
   "language": "python",
   "name": "python3"
  },
  "language_info": {
   "codemirror_mode": {
    "name": "ipython",
    "version": 3
   },
   "file_extension": ".py",
   "mimetype": "text/x-python",
   "name": "python",
   "nbconvert_exporter": "python",
   "pygments_lexer": "ipython3",
   "version": "3.11.4"
  }
 },
 "nbformat": 4,
 "nbformat_minor": 5
}

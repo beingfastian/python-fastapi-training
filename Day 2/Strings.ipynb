{
 "cells": [
  {
   "cell_type": "markdown",
   "id": "71faf7ea-b5f3-47e9-9f80-a6b12883b374",
   "metadata": {},
   "source": [
    "String Formatting"
   ]
  },
  {
   "cell_type": "code",
   "execution_count": 2,
   "id": "b821970c-0566-449f-b0eb-88a6732810d9",
   "metadata": {},
   "outputs": [
    {
     "name": "stdout",
     "output_type": "stream",
     "text": [
      "Name: Hanzla, Age: 24, PI≈1106.00\n"
     ]
    }
   ],
   "source": [
    "#f-strings\n",
    "name = \"Hanzla\"\n",
    "age = 24\n",
    "id = 1106\n",
    "print(f\"Name: {name}, Age: {age}, ID≈{id:.2f}\")"
   ]
  },
  {
   "cell_type": "code",
   "execution_count": null,
   "id": "d91af8cc-b57d-42c9-a9e5-9a5064861b29",
   "metadata": {},
   "outputs": [],
   "source": [
    "# % formatting\n",
    "user = \"Hanzla\"\n",
    "balance = 235.78\n",
    "print(\"User %s has $%.2f in account\" % (user, balance))"
   ]
  },
  {
   "cell_type": "markdown",
   "id": "fde00c8b-a64b-49b3-bb72-ad324d0b0442",
   "metadata": {},
   "source": [
    "Escape Sequence"
   ]
  },
  {
   "cell_type": "code",
   "execution_count": 9,
   "id": "b0c2adbc-e99b-471d-aaf0-8ff6abb65084",
   "metadata": {},
   "outputs": [
    {
     "name": "stdout",
     "output_type": "stream",
     "text": [
      "He said,\"Hello!\"\n",
      "I am here.\tto help.\n",
      "Hello \\nI am Hanzla\\tIqbal\n"
     ]
    }
   ],
   "source": [
    "s = \"He said,\\\"Hello!\\\"\\nI am here.\\tto help.\"\n",
    "print(s)\n",
    "raw = r\"Hello \\nI am Hanzla\\tIqbal\"\n",
    "print(raw)"
   ]
  },
  {
   "cell_type": "markdown",
   "id": "869c5029-ea28-4659-8a7c-8ba852104928",
   "metadata": {},
   "source": [
    "String Methods"
   ]
  },
  {
   "cell_type": "code",
   "execution_count": 10,
   "id": "a4166f1a-6d70-434e-bac7-fae8318e5b22",
   "metadata": {},
   "outputs": [
    {
     "name": "stdout",
     "output_type": "stream",
     "text": [
      "Python is GREAT!\n",
      "Python is GREAT!  \n",
      "  Python is GREAT!\n",
      "  python is great!  \n",
      "  PYTHON IS GREAT!  \n",
      "  python is great!  \n",
      "  Python Is Great!  \n",
      "12\n",
      "  Python is awesome!  \n",
      "True\n",
      "True\n",
      "['Python', 'is', 'GREAT!']\n",
      "Python-is-GREAT!\n",
      "True\n",
      "True\n",
      "True\n",
      "20\n"
     ]
    }
   ],
   "source": [
    "text = \"  Python is GREAT!  \"\n",
    "# Stripping whitespace\n",
    "print(text.strip())    \n",
    "print(text.lstrip())   \n",
    "print(text.rstrip())   \n",
    "# Case conversion\n",
    "print(text.lower())    \n",
    "print(text.upper())    \n",
    "print(text.capitalize()) \n",
    "print(text.title())    \n",
    "# Search & Replace\n",
    "print(text.find(\"GREAT\"))        \n",
    "print(text.replace(\"GREAT\", \"awesome\"))  \n",
    "# Check prefixes/suffixes\n",
    "print(text.startswith(\"  Python\")) \n",
    "print(text.endswith(\"!  \"))         \n",
    "# Split & Join\n",
    "words = text.strip().split()      \n",
    "print(words)\n",
    "joined = \"-\".join(words)\n",
    "print(joined)                      \n",
    "# Check content\n",
    "print(\"123\".isdigit())  \n",
    "print(\"abc\".isalpha())  \n",
    "print(\"abc123\".isalnum()) \n",
    "# Length\n",
    "print(len(text))   \n"
   ]
  },
  {
   "cell_type": "code",
   "execution_count": null,
   "id": "708eaf93-f26c-41fe-9b5c-f30ceced348e",
   "metadata": {},
   "outputs": [],
   "source": []
  },
  {
   "cell_type": "code",
   "execution_count": null,
   "id": "132185fa-2b37-4fad-aba1-ec6a1aa1134f",
   "metadata": {},
   "outputs": [],
   "source": []
  }
 ],
 "metadata": {
  "kernelspec": {
   "display_name": "Python 3 (ipykernel)",
   "language": "python",
   "name": "python3"
  },
  "language_info": {
   "codemirror_mode": {
    "name": "ipython",
    "version": 3
   },
   "file_extension": ".py",
   "mimetype": "text/x-python",
   "name": "python",
   "nbconvert_exporter": "python",
   "pygments_lexer": "ipython3",
   "version": "3.11.4"
  }
 },
 "nbformat": 4,
 "nbformat_minor": 5
}

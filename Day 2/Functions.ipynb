{
 "cells": [
  {
   "cell_type": "markdown",
   "id": "cf5e616b-b323-46a3-9f41-e98f11201033",
   "metadata": {},
   "source": [
    "Simple Functions"
   ]
  },
  {
   "cell_type": "code",
   "execution_count": 13,
   "id": "2813e749-40b4-44f9-8069-14e4eae6cd79",
   "metadata": {},
   "outputs": [
    {
     "name": "stdin",
     "output_type": "stream",
     "text": [
      "Enter Number a:  2\n",
      "Enter Number b:  2\n"
     ]
    },
    {
     "name": "stdout",
     "output_type": "stream",
     "text": [
      "4\n",
      "0\n",
      "0\n",
      "0\n",
      "4\n",
      "8\n"
     ]
    }
   ],
   "source": [
    "def sum(x,y):\n",
    "    return x + y\n",
    "def sub(x,y):\n",
    "    return x - y\n",
    "def mul(x,y):\n",
    "    return x - y\n",
    "def div(x,y):\n",
    "    return x - y\n",
    "def square(x):\n",
    "    return pow(x,2)\n",
    "def cube(x):\n",
    "    return x*x*x\n",
    "def get_number(number):\n",
    "    try:\n",
    "        return int(input(number))\n",
    "    except Exception as e:\n",
    "        print(e)\n",
    "if __name__ == \"__main__\":\n",
    "    a = get_number(\"Enter Number a: \")\n",
    "    b = get_number(\"Enter Number b: \")\n",
    "    print(sum(a,b))\n",
    "    print(sub(a,b))\n",
    "    print(mul(a,b))\n",
    "    print(div(a,b))\n",
    "    print(square(a))\n",
    "    print(cube(a))"
   ]
  },
  {
   "cell_type": "markdown",
   "id": "cfb8c18a-0281-4d63-9c83-3907bc678027",
   "metadata": {},
   "source": [
    "Some Complex"
   ]
  },
  {
   "cell_type": "code",
   "execution_count": 22,
   "id": "4a4b6c04-6fff-432d-b0e0-e31e008b91e7",
   "metadata": {
    "scrolled": true
   },
   "outputs": [
    {
     "name": "stdout",
     "output_type": "stream",
     "text": [
      "[12, 18, 18, 20, 90]\n",
      "[43, 67, 17, 101, 109]\n"
     ]
    }
   ],
   "source": [
    "myList = [12, 43, 67, 18, 17, 18, 20, 90, 101, 109]\n",
    "def find_even(n):\n",
    "    if n % 2 == 0:\n",
    "        return n\n",
    "def find_odd(n):\n",
    "    if n % 2 != 0:\n",
    "        return n\n",
    "def find_even_odd():\n",
    "    for number in myList:\n",
    "            even_numbers = list(filter(find_even, myList))\n",
    "            odd_numbers = list(filter(find_odd, myList))\n",
    "    print(even_numbers)\n",
    "    print(odd_numbers)\n",
    "find_even_odd()"
   ]
  },
  {
   "cell_type": "code",
   "execution_count": null,
   "id": "e6b10485-4ef0-4d8c-9b84-5adb59ebbde6",
   "metadata": {
    "scrolled": true
   },
   "outputs": [
    {
     "name": "stdout",
     "output_type": "stream",
     "text": [
      "Even Numbers:  [12, 18, 18, 20, 90]\n",
      "Odd Numbers:  [43, 67, 17, 101, 109]\n",
      "Summed List:  [55, 85, 35, 121, 199]\n",
      "Sorted Names:  ['ali', 'umar', 'ahmad', 'hanzla', 'salman']\n",
      "Capital List  ['Hanzla', 'Ahmad', 'Salman', 'Ali', 'Umar']\n",
      "Reverse Sorted Names:  ['hanzla', 'salman', 'ahmad', 'umar', 'ali']\n"
     ]
    }
   ],
   "source": [
    "#lamda functions\n",
    "myList = [12, 43, 67, 18, 17, 18, 20, 90, 101, 109]\n",
    "myNameList = [\"hanzla\", \"ahmad\", \"salman\", \"ali\", \"umar\"]\n",
    "def find_even_odd():\n",
    "    even_numbers = list(filter(lambda x: x % 2 == 0,myList))\n",
    "    odd_numbers  = list(filter(lambda x: x % 2 != 0,myList))\n",
    "    summed = list(map(lambda a, b: a + b, even_numbers, odd_numbers))\n",
    "    print(\"Even Numbers: \", even_numbers)\n",
    "    print(\"Odd Numbers: \", odd_numbers)\n",
    "    print(\"Summed List: \", summed)\n",
    "def sort_names():\n",
    "    Sorted_Names = list(sorted(myNameList, key = lambda x: len(x)))\n",
    "    print(\"Sorted Names: \", Sorted_Names)\n",
    "def sort_names_reverse():\n",
    "    Sorted_Names = list(sorted(myNameList, key = lambda x: len(x), reverse = True))\n",
    "    print(\"Reverse Sorted Names: \", Sorted_Names)\n",
    "def captalize():\n",
    "    Capital_List = list(map(lambda name: name.capitalize(), myNameList))\n",
    "    print(\"Capital List \",Capital_List)\n",
    "def square():\n",
    "       return lambda x: pow(x,2)\n",
    "def cube():\n",
    "       return lambda x: x * x * x\n",
    "find_even_odd()\n",
    "sort_names()\n",
    "captalize()\n",
    "sort_names_reverse()\n",
    "sq = square()\n",
    "cu = cube()\n",
    "a = int(input(\"Enter Number: \"))\n",
    "print(\"Square of Number: \", sq(a))\n",
    "print(\"Cube of Number: \", cu(a))"
   ]
  },
  {
   "cell_type": "markdown",
   "id": "775fe72e-ed3e-4377-acad-7faa2e78ca32",
   "metadata": {},
   "source": [
    "Parial Functions"
   ]
  },
  {
   "cell_type": "code",
   "execution_count": 51,
   "id": "6c2eeaea-3bfc-4eb6-9460-506b146e90b5",
   "metadata": {},
   "outputs": [
    {
     "name": "stdout",
     "output_type": "stream",
     "text": [
      "2 × 5 = 10\n",
      "2 × 10 = 20\n",
      "Hello, Hanzla!\n",
      "Hi, Hanzla!\n"
     ]
    }
   ],
   "source": [
    "from functools import partial\n",
    "def multiply(x, y):\n",
    "    return x * y\n",
    "double = partial(multiply, 2)\n",
    "print(\"2 × 5 =\", double(5))     \n",
    "print(\"2 × 10 =\", double(10))   \n",
    "def greet(greeting, name):\n",
    "    return f\"{greeting}, {name}!\"\n",
    "say_hello = partial(greet, \"Hello\")\n",
    "say_hi = partial(greet, \"Hi\")\n",
    "print(say_hello(\"Hanzla\"))  \n",
    "print(say_hi(\"Hanzla\"))  "
   ]
  },
  {
   "cell_type": "code",
   "execution_count": null,
   "id": "223e305b-6fe5-4be9-930d-47edc0bdfa61",
   "metadata": {},
   "outputs": [],
   "source": []
  }
 ],
 "metadata": {
  "kernelspec": {
   "display_name": "Python 3 (ipykernel)",
   "language": "python",
   "name": "python3"
  },
  "language_info": {
   "codemirror_mode": {
    "name": "ipython",
    "version": 3
   },
   "file_extension": ".py",
   "mimetype": "text/x-python",
   "name": "python",
   "nbconvert_exporter": "python",
   "pygments_lexer": "ipython3",
   "version": "3.11.4"
  }
 },
 "nbformat": 4,
 "nbformat_minor": 5
}

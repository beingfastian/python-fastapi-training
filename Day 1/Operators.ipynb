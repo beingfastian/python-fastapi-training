{
 "cells": [
  {
   "cell_type": "markdown",
   "id": "57f8700f-ebec-40b8-9afe-e4d1cc336237",
   "metadata": {},
   "source": [
    "Python divides the operators in the following groups:\n",
    "Arithmetic operators\n",
    "Assignment operators\n",
    "Comparison operators\n",
    "Logical operators\n",
    "Identity operators\n",
    "Membership operators\n",
    "Bitwise operators"
   ]
  },
  {
   "cell_type": "markdown",
   "id": "9071b0c1-bc77-4b7f-bfd3-7aa6dd6fa164",
   "metadata": {},
   "source": [
    "Arithmetic operators"
   ]
  },
  {
   "cell_type": "code",
   "execution_count": 1,
   "id": "6b53954c-0762-4c3c-aea2-ae9c93d66d3d",
   "metadata": {},
   "outputs": [
    {
     "name": "stdout",
     "output_type": "stream",
     "text": [
      "7\n",
      "3\n",
      "10\n",
      "2.5\n"
     ]
    }
   ],
   "source": [
    "x = 5 \n",
    "y = 2\n",
    "\n",
    "print(x+y)\n",
    "print(x-y)\n",
    "print(x*y)\n",
    "print(x/y)"
   ]
  },
  {
   "cell_type": "markdown",
   "id": "1d0984ce-6af5-4257-9b1e-00612ada8dc3",
   "metadata": {},
   "source": [
    "Assignment operators"
   ]
  },
  {
   "cell_type": "code",
   "execution_count": 17,
   "id": "76b86373-72b1-4380-ab9c-a343de4f5529",
   "metadata": {},
   "outputs": [
    {
     "name": "stdout",
     "output_type": "stream",
     "text": [
      "4\n",
      "2\n",
      "4\n",
      "2.0\n",
      "4.0\n",
      "2.0\n",
      "2\n",
      "2\n",
      "2\n",
      "0\n"
     ]
    }
   ],
   "source": [
    "x = 2\n",
    "x += 2\n",
    "print(x)\n",
    "x -=2\n",
    "print(x)\n",
    "x *=2\n",
    "print(x)\n",
    "x /=2\n",
    "print(x)\n",
    "x **=2\n",
    "print(x)\n",
    "x //=2\n",
    "print(x)\n",
    "x = int(x)\n",
    "x &= 3\n",
    "print(x)\n",
    "x |=2\n",
    "print(x)\n",
    "print(x:=2)\n",
    "x ^=2\n",
    "print(x)"
   ]
  },
  {
   "cell_type": "markdown",
   "id": "09df2baf-d959-4d0a-acdc-e9fc32c2afc3",
   "metadata": {},
   "source": [
    "Comparison Operators"
   ]
  },
  {
   "cell_type": "code",
   "execution_count": 29,
   "id": "c6681d84-8e6b-4be0-b756-79ecfb616459",
   "metadata": {},
   "outputs": [
    {
     "name": "stdin",
     "output_type": "stream",
     "text": [
      "Enter Value of x:  2\n",
      "Enter Value of x:  3\n"
     ]
    },
    {
     "name": "stdout",
     "output_type": "stream",
     "text": [
      "False\n",
      "True\n",
      "False\n",
      "True\n",
      "False\n",
      "True\n"
     ]
    }
   ],
   "source": [
    "#x = 2\n",
    "#y = 1\n",
    "x = input(\"Enter Value of x: \")\n",
    "y = input(\"Enter Value of x: \")\n",
    "if x == y:\n",
    " print(\"True\")\n",
    "else: \n",
    "    print(\"False\")\n",
    "\n",
    "if x != y:\n",
    " print(\"True\")\n",
    "else: \n",
    "    print(\"False\")\n",
    "\n",
    "if x > y:\n",
    " print(\"True\")\n",
    "else: \n",
    "    print(\"False\")\n",
    "\n",
    "if x < y:\n",
    " print(\"True\")\n",
    "else: \n",
    "    print(\"False\")\n",
    "\n",
    "if x >= y:\n",
    " print(\"True\")\n",
    "else: \n",
    "    print(\"False\")\n",
    "\n",
    "if x <= y:\n",
    " print(\"True\")\n",
    "else: \n",
    "    print(\"False\")"
   ]
  },
  {
   "cell_type": "markdown",
   "id": "f4b1b5a7-b74c-4cd4-8ae1-d2cb201bff67",
   "metadata": {},
   "source": [
    "Logical Operators"
   ]
  },
  {
   "cell_type": "code",
   "execution_count": null,
   "id": "30326d08-dd0e-428d-9886-4e3b9238d4a8",
   "metadata": {},
   "outputs": [],
   "source": [
    "x = input(\"Enter Value of x: \")\n",
    "y = input(\"Enter Value of y: \")\n",
    "\n",
    "x = int(x)\n",
    "y = int(y)\n",
    "\n",
    "if x < 5 and y < 10:\n",
    "    print(\"x < 5 and y < 10: True\")\n",
    "else:\n",
    "    print(\"x < 5 and y < 10: False\")\n",
    "\n",
    "if x < 5 or y < 4:\n",
    "    print(\"x < 5 or y < 4: True\")\n",
    "else:\n",
    "    print(\"x < 5 or y < 4: False\")\n",
    "\n",
    "if not (x < 5 and y < 10):\n",
    "    print(\"not(x < 5 and y < 10): True\")\n",
    "else:\n",
    "    print(\"not(x < 5 and y < 10): False\")\n",
    "\n",
    "if not (x < 5 or y < 10):\n",
    "    print(\"not(x < 5 and y < 10): True\")\n",
    "else:\n",
    "    print(\"not(x < 5 and y < 10): False\")"
   ]
  },
  {
   "cell_type": "markdown",
   "id": "7d424b57-3481-43a6-8b45-da5a122b7f79",
   "metadata": {},
   "source": [
    "Identity Operators"
   ]
  },
  {
   "cell_type": "code",
   "execution_count": 43,
   "id": "9a97e5d7-3535-4148-81dd-d525cea8e86b",
   "metadata": {},
   "outputs": [
    {
     "name": "stdin",
     "output_type": "stream",
     "text": [
      "Enter Value of x:  1\n",
      "Enter Value of y:  1\n"
     ]
    },
    {
     "name": "stdout",
     "output_type": "stream",
     "text": [
      "x is y: True\n",
      "x is not y: False\n"
     ]
    }
   ],
   "source": [
    "x = input(\"Enter Value of x: \")\n",
    "y = input(\"Enter Value of y: \")\n",
    "\n",
    "if x is y:\n",
    "    print(\"x is y: True\")\n",
    "else:\n",
    "    print(\"x is y: False\")\n",
    "\n",
    "if x is not y:\n",
    "    print(\"x is not y: True\")\n",
    "else:\n",
    "    print(\"x is not y: False\")"
   ]
  },
  {
   "cell_type": "markdown",
   "id": "b03b2dd6-a895-44bc-9286-04fec1a0a6fd",
   "metadata": {},
   "source": [
    " Membership Operators"
   ]
  },
  {
   "cell_type": "code",
   "execution_count": 34,
   "id": "c71bb2a0-d340-482f-be2f-d6a5b4735ec3",
   "metadata": {},
   "outputs": [
    {
     "name": "stdin",
     "output_type": "stream",
     "text": [
      "Enter Value of x:  1\n",
      "Enter Value of y:  2\n"
     ]
    },
    {
     "name": "stdout",
     "output_type": "stream",
     "text": [
      "x in sample_list: False\n",
      "y not in sample_list: True\n"
     ]
    }
   ],
   "source": [
    "x = input(\"Enter Value of x: \")\n",
    "y = input(\"Enter Value of y: \")\n",
    "\n",
    "sample_list = [1, 2, 3, 4, 5]\n",
    "if x in sample_list:\n",
    "    print(\"x in sample_list: True\")\n",
    "else:\n",
    "    print(\"x in sample_list: False\")\n",
    "\n",
    "if y not in sample_list:\n",
    "    print(\"y not in sample_list: True\")\n",
    "else:\n",
    "    print(\"y not in sample_list: False\")"
   ]
  },
  {
   "cell_type": "markdown",
   "id": "6025bee7-da21-49e8-9552-50e200c69aa3",
   "metadata": {},
   "source": [
    "Bitwise Operators"
   ]
  },
  {
   "cell_type": "code",
   "execution_count": 37,
   "id": "67c3b6f7-9dc0-4c81-8c65-5c990486c360",
   "metadata": {},
   "outputs": [
    {
     "name": "stdin",
     "output_type": "stream",
     "text": [
      "Enter Value of x:  1 \n",
      "Enter Value of y:  1\n"
     ]
    },
    {
     "name": "stdout",
     "output_type": "stream",
     "text": [
      "x & y: 1\n",
      "x | y: 1\n",
      "x ^ y: 0 (False)\n",
      "~x: -2\n",
      "x << 2: 4\n",
      "x >> 2: 0\n"
     ]
    }
   ],
   "source": [
    "x = input(\"Enter Value of x: \")\n",
    "y = input(\"Enter Value of y: \")\n",
    "\n",
    "x = int(x)  \n",
    "y = int(y)  \n",
    "\n",
    "if x & y:\n",
    "    print(\"x & y:\", x & y)\n",
    "else:\n",
    "    print(\"x & y: 0 (False)\")\n",
    "\n",
    "if x | y:\n",
    "    print(\"x | y:\", x | y)\n",
    "else:\n",
    "    print(\"x | y: 0 (False)\")\n",
    "\n",
    "if x ^ y:\n",
    "    print(\"x ^ y:\", x ^ y)\n",
    "else:\n",
    "    print(\"x ^ y: 0 (False)\")\n",
    "\n",
    "print(\"~x:\", ~x)\n",
    "\n",
    "print(\"x << 2:\", x << 2)\n",
    "\n",
    "print(\"x >> 2:\", x >> 2)"
   ]
  },
  {
   "cell_type": "code",
   "execution_count": null,
   "id": "d189621c-e98d-43c3-b06f-c3120fcbf89c",
   "metadata": {},
   "outputs": [],
   "source": []
  },
  {
   "cell_type": "code",
   "execution_count": null,
   "id": "553de0e1-db9b-41b1-bc0b-57b84218fea9",
   "metadata": {},
   "outputs": [],
   "source": []
  }
 ],
 "metadata": {
  "kernelspec": {
   "display_name": "Python 3 (ipykernel)",
   "language": "python",
   "name": "python3"
  },
  "language_info": {
   "codemirror_mode": {
    "name": "ipython",
    "version": 3
   },
   "file_extension": ".py",
   "mimetype": "text/x-python",
   "name": "python",
   "nbconvert_exporter": "python",
   "pygments_lexer": "ipython3",
   "version": "3.11.4"
  }
 },
 "nbformat": 4,
 "nbformat_minor": 5
}
